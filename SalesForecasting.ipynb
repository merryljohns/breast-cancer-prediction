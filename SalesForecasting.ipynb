{
  "nbformat": 4,
  "nbformat_minor": 0,
  "metadata": {
    "colab": {
      "provenance": [],
      "authorship_tag": "ABX9TyPyahkOKspf6bh/UvEKpzJI",
      "include_colab_link": true
    },
    "kernelspec": {
      "name": "python3",
      "display_name": "Python 3"
    },
    "language_info": {
      "name": "python"
    },
    "widgets": {
      "application/vnd.jupyter.widget-state+json": {
        "cc7ec72b66e34ddb8746761967629c14": {
          "model_module": "@jupyter-widgets/controls",
          "model_name": "ButtonModel",
          "model_module_version": "2.0.0",
          "state": {
            "_dom_classes": [],
            "_model_module": "@jupyter-widgets/controls",
            "_model_module_version": "2.0.0",
            "_model_name": "ButtonModel",
            "_view_count": null,
            "_view_module": "@jupyter-widgets/controls",
            "_view_module_version": "2.0.0",
            "_view_name": "ButtonView",
            "button_style": "danger",
            "description": "Request a quote",
            "disabled": false,
            "icon": "",
            "layout": "IPY_MODEL_f8cb8c257e82485d925182e28751f717",
            "style": "IPY_MODEL_d7885a0fccaa492ba701b1eef0df3ffd",
            "tabbable": null,
            "tooltip": null
          }
        },
        "f8cb8c257e82485d925182e28751f717": {
          "model_module": "@jupyter-widgets/base",
          "model_name": "LayoutModel",
          "model_module_version": "2.0.0",
          "state": {
            "_model_module": "@jupyter-widgets/base",
            "_model_module_version": "2.0.0",
            "_model_name": "LayoutModel",
            "_view_count": null,
            "_view_module": "@jupyter-widgets/base",
            "_view_module_version": "2.0.0",
            "_view_name": "LayoutView",
            "align_content": null,
            "align_items": null,
            "align_self": null,
            "border_bottom": null,
            "border_left": null,
            "border_right": null,
            "border_top": null,
            "bottom": null,
            "display": null,
            "flex": null,
            "flex_flow": null,
            "grid_area": null,
            "grid_auto_columns": null,
            "grid_auto_flow": null,
            "grid_auto_rows": null,
            "grid_column": null,
            "grid_gap": null,
            "grid_row": null,
            "grid_template_areas": null,
            "grid_template_columns": null,
            "grid_template_rows": null,
            "height": null,
            "justify_content": null,
            "justify_items": null,
            "left": null,
            "margin": null,
            "max_height": null,
            "max_width": null,
            "min_height": null,
            "min_width": null,
            "object_fit": null,
            "object_position": null,
            "order": null,
            "overflow": null,
            "padding": null,
            "right": null,
            "top": null,
            "visibility": null,
            "width": null
          }
        },
        "d7885a0fccaa492ba701b1eef0df3ffd": {
          "model_module": "@jupyter-widgets/controls",
          "model_name": "ButtonStyleModel",
          "model_module_version": "2.0.0",
          "state": {
            "_model_module": "@jupyter-widgets/controls",
            "_model_module_version": "2.0.0",
            "_model_name": "ButtonStyleModel",
            "_view_count": null,
            "_view_module": "@jupyter-widgets/base",
            "_view_module_version": "2.0.0",
            "_view_name": "StyleView",
            "button_color": null,
            "font_family": null,
            "font_size": null,
            "font_style": null,
            "font_variant": null,
            "font_weight": null,
            "text_color": null,
            "text_decoration": null
          }
        },
        "c70bb3b94b174649ab80a71ab18ddb98": {
          "model_module": "@jupyter-widgets/controls",
          "model_name": "ButtonModel",
          "model_module_version": "2.0.0",
          "state": {
            "_dom_classes": [],
            "_model_module": "@jupyter-widgets/controls",
            "_model_module_version": "2.0.0",
            "_model_name": "ButtonModel",
            "_view_count": null,
            "_view_module": "@jupyter-widgets/controls",
            "_view_module_version": "2.0.0",
            "_view_name": "ButtonView",
            "button_style": "danger",
            "description": "Request a quote",
            "disabled": false,
            "icon": "",
            "layout": "IPY_MODEL_2b7449db7aa54c879b872f5a22976a4d",
            "style": "IPY_MODEL_cc96c4d13f0649279b56e92c0756df48",
            "tabbable": null,
            "tooltip": null
          }
        },
        "2b7449db7aa54c879b872f5a22976a4d": {
          "model_module": "@jupyter-widgets/base",
          "model_name": "LayoutModel",
          "model_module_version": "2.0.0",
          "state": {
            "_model_module": "@jupyter-widgets/base",
            "_model_module_version": "2.0.0",
            "_model_name": "LayoutModel",
            "_view_count": null,
            "_view_module": "@jupyter-widgets/base",
            "_view_module_version": "2.0.0",
            "_view_name": "LayoutView",
            "align_content": null,
            "align_items": null,
            "align_self": null,
            "border_bottom": null,
            "border_left": null,
            "border_right": null,
            "border_top": null,
            "bottom": null,
            "display": null,
            "flex": null,
            "flex_flow": null,
            "grid_area": null,
            "grid_auto_columns": null,
            "grid_auto_flow": null,
            "grid_auto_rows": null,
            "grid_column": null,
            "grid_gap": null,
            "grid_row": null,
            "grid_template_areas": null,
            "grid_template_columns": null,
            "grid_template_rows": null,
            "height": null,
            "justify_content": null,
            "justify_items": null,
            "left": null,
            "margin": null,
            "max_height": null,
            "max_width": null,
            "min_height": null,
            "min_width": null,
            "object_fit": null,
            "object_position": null,
            "order": null,
            "overflow": null,
            "padding": null,
            "right": null,
            "top": null,
            "visibility": null,
            "width": null
          }
        },
        "cc96c4d13f0649279b56e92c0756df48": {
          "model_module": "@jupyter-widgets/controls",
          "model_name": "ButtonStyleModel",
          "model_module_version": "2.0.0",
          "state": {
            "_model_module": "@jupyter-widgets/controls",
            "_model_module_version": "2.0.0",
            "_model_name": "ButtonStyleModel",
            "_view_count": null,
            "_view_module": "@jupyter-widgets/base",
            "_view_module_version": "2.0.0",
            "_view_name": "StyleView",
            "button_color": null,
            "font_family": null,
            "font_size": null,
            "font_style": null,
            "font_variant": null,
            "font_weight": null,
            "text_color": null,
            "text_decoration": null
          }
        }
      }
    }
  },
  "cells": [
    {
      "cell_type": "markdown",
      "metadata": {
        "id": "view-in-github",
        "colab_type": "text"
      },
      "source": [
        "<a href=\"https://colab.research.google.com/github/merryljohns/breast-cancer-prediction/blob/main/SalesForecasting.ipynb\" target=\"_parent\"><img src=\"https://colab.research.google.com/assets/colab-badge.svg\" alt=\"Open In Colab\"/></a>"
      ]
    },
    {
      "cell_type": "code",
      "execution_count": 24,
      "metadata": {
        "id": "XmZrkHHNpalc"
      },
      "outputs": [],
      "source": [
        "%pip install -Uq upgini catboost"
      ]
    },
    {
      "cell_type": "code",
      "source": [
        "from os.path import exists\n",
        "import pandas as pd\n",
        "df_path=\"train.csv.zip\" if exists(\"train.csv.zip\") else \"https://github.com/upgini/upgini/raw/main/notebooks/train.csv.zip\"\n",
        "df=pd.read_csv(df_path)\n",
        "df=df.sample(n=19_000,random_state=0)\n",
        "df[\"store\"]=df[\"store\"].astype(str)\n",
        "df[\"item\"]=df[\"item\"].astype(str)\n",
        "df[\"date\"]=pd.to_datetime(df[\"date\"])\n",
        "df.sort_values(\"date\",inplace=True)\n",
        "df.reset_index(inplace=True,drop=True)\n",
        "df.head()\n",
        "print(df.shape)"
      ],
      "metadata": {
        "colab": {
          "base_uri": "https://localhost:8080/"
        },
        "id": "FQZAHrvip6M3",
        "outputId": "fbd70528-0feb-427d-8a09-58c9f84b3240"
      },
      "execution_count": 25,
      "outputs": [
        {
          "output_type": "stream",
          "name": "stdout",
          "text": [
            "(19000, 4)\n"
          ]
        }
      ]
    },
    {
      "cell_type": "code",
      "source": [
        "train =df[df[\"date\"]<\"2017-01-01\"]\n",
        "test=df[df[\"date\"]>=\"2017-01-01\"]"
      ],
      "metadata": {
        "id": "gM0AMqzxuBmY"
      },
      "execution_count": 26,
      "outputs": []
    },
    {
      "cell_type": "code",
      "source": [
        "train_features=train.drop(columns=[\"sales\"])\n",
        "train_target=train[\"sales\"]\n",
        "test_features=train.drop(columns=[\"sales\"])\n",
        "test_target=train[\"sales\"]\n",
        "\n"
      ],
      "metadata": {
        "id": "j2SjT5A2uemW"
      },
      "execution_count": 27,
      "outputs": []
    },
    {
      "cell_type": "code",
      "source": [
        "from upgini import FeaturesEnricher, SearchKey\n",
        "from upgini.metadata import CVType\n",
        "enricher=FeaturesEnricher(\n",
        "    search_keys={\n",
        "        \"date\":SearchKey.DATE\n",
        "    },\n",
        "    cv=CVType.time_series\n",
        ")\n",
        "enricher.fit(train_features,\n",
        "             train_target,\n",
        "             eval_set=[(test_features,test_target)])"
      ],
      "metadata": {
        "colab": {
          "base_uri": "https://localhost:8080/",
          "height": 1000
        },
        "id": "PeqHFPvsvGjk",
        "outputId": "622b7dc0-5ab6-4112-f5af-e79dded28b16"
      },
      "execution_count": 28,
      "outputs": [
        {
          "output_type": "display_data",
          "data": {
            "text/plain": [
              "[============================================================] 100% Finished"
            ],
            "text/html": [
              "<progress style='width:60ex' max='100' value='100'></progress>  100% Finished</br>"
            ]
          },
          "metadata": {}
        },
        {
          "output_type": "stream",
          "name": "stdout",
          "text": [
            "Eval set 1 is equal to train set and will be ignored\n",
            "WARNING #1: Search started with DATE search key only\n",
            "Try to add other keys like the COUNTRY, POSTAL_CODE, PHONE NUMBER, EMAIL/HEM, IP to your training dataset\n",
            "for search through all the available data sources.\n",
            "See docs https://github.com/upgini/upgini#-total-239-countries-and-up-to-41-years-of-history\n",
            "\n",
            "\n",
            "Detected task type: ModelTaskType.REGRESSION. Reason: date search key is present, treating as regression\n",
            "You can set task type manually with argument `model_task_type` of FeaturesEnricher constructor if task type detected incorrectly\n",
            "\n",
            "WARNING #2: Your training sample is unstable in number of rows per date. It is recommended to redesign the training sample\n",
            "\n"
          ]
        },
        {
          "output_type": "display_data",
          "data": {
            "text/plain": [
              "<IPython.core.display.HTML object>"
            ],
            "text/html": [
              "<table><tr><th style='font-weight:bold'>Column name</th><th style='font-weight:bold'>Status</th><th style='font-weight:bold'>Errors</th></tr><tr><td>target</td><td style='background-color:#DAF7A6;color:black'>All valid</td><td>-</td></tr><tr><td>date</td><td style='background-color:#DAF7A6;color:black'>All valid</td><td>-</td></tr></table>"
            ]
          },
          "metadata": {}
        },
        {
          "output_type": "stream",
          "name": "stdout",
          "text": [
            "\n",
            "\n",
            "Running search request, search_id=663575c3-7b4c-41ec-bd5e-78e1374cc026\n",
            "We'll send email notification once it's completed, just use your personal api_key from profile.upgini.com\n",
            "\n"
          ]
        },
        {
          "output_type": "stream",
          "name": "stderr",
          "text": [
            "/usr/local/lib/python3.12/dist-packages/upgini/features_enricher.py:4491: FutureWarning: Downcasting object dtype arrays on .fillna, .ffill, .bfill is deprecated and will change in a future version. Call result.infer_objects(copy=False) instead. To opt-in to the future behavior, set `pd.set_option('future.no_silent_downcasting', True)`\n",
            "  if self.features_info[self.bundle.get(\"features_info_psi\")].fillna(0.0).eq(0.0).all():\n",
            "/usr/local/lib/python3.12/dist-packages/upgini/features_enricher.py:4491: FutureWarning: Downcasting object dtype arrays on .fillna, .ffill, .bfill is deprecated and will change in a future version. Call result.infer_objects(copy=False) instead. To opt-in to the future behavior, set `pd.set_option('future.no_silent_downcasting', True)`\n",
            "  if self.features_info[self.bundle.get(\"features_info_psi\")].fillna(0.0).eq(0.0).all():\n"
          ]
        },
        {
          "output_type": "display_data",
          "data": {
            "text/plain": [
              "<IPython.core.display.HTML object>"
            ],
            "text/html": [
              "<style>\n",
              "            .upgini-df thead th {\n",
              "                font-weight:bold;\n",
              "                text-align: center;\n",
              "                padding: 0.5em;\n",
              "                border-bottom: 2px solid black;\n",
              "            }\n",
              "\n",
              "            .upgini-df tbody td {\n",
              "                padding: 0.5em;\n",
              "                color: black;\n",
              "            }\n",
              "\n",
              "            .upgini-df tbody tr:nth-child(odd) {\n",
              "                background-color: #ffffff;\n",
              "            }\n",
              "\n",
              "            .upgini-df tbody tr:nth-child(even) {\n",
              "                background-color: #f2f2f2;\n",
              "            }\n",
              "\n",
              "            .upgini-text {\n",
              "                text-align: left;\n",
              "            }\n",
              "\n",
              "            .upgini-number {\n",
              "                text-align: center;\n",
              "            }\n",
              "        </style>\n",
              "        <h2>Relevant features (13)</h2>\n",
              "        <div style=\"display:flex; flex-direction:column; align-items:flex-end; width: fit-content;\">\n",
              "            \n",
              "            <div style=\"text-align: right\">\n",
              "                <button onclick=navigator.clipboard.writeText(decodeURI('Feature%20name%09SHAP%20value%09PSI%20value%09Coverage%20%25%09Value%20preview%09Provider%09Source%09Updates%0Af_autofe_lag_28d_aaadd46bbb%0912.226%09%0997.10896960711638%09135.0,%2067.0,%2061.0%09Training%20dataset%09AutoFE%3A%20features%20from%20Training%20dataset%09%0Astore%098.019%09%09100.0%095,%2010,%207%09%09%09%0Af_events_date_week_cos3_7525fe31%093.9%09%09100.0%091.0,%20-0.2225,%200.6235%09Upgini%09Calendar%20data%09Daily%0Af_financial_date_crude_oil_7d_to_1y_c3e0ad17%092.1846%09%09100.0%090.8935,%200.776,%201.0769%09Upgini%09Markets%20data%09Daily%0Af_events_date_year_sin2_59955ffd%091.9209%09%09100.0%09-0.6153,%200.3847,%20-0.1628%09Upgini%09Calendar%20data%09Daily%0Af_autofe_roll_3d_min_1a2ad6d8bb%091.7003%09%09100.0%090.3253,%20-0.2795,%20-0.3817%09Training%20dataset,%20Upgini%09AutoFE%3A%20features%20from%20Training%20dataset,%3Ca%20href%3D%27https%3A%2F%2Fupgini.com%2F%23data_sources%27%20target%3D%27_blank%27%20rel%3D%27noopener%20noreferrer%27%3ECalendar%20data%3C%2Fa%3E%09Daily%0Af_autofe_roll_3d_median_8e12f1e1e9%091.6415%09%09100.0%090.309,%20-0.263,%20-0.3496%09Training%20dataset,%20Upgini%09AutoFE%3A%20features%20from%20Training%20dataset,%3Ca%20href%3D%27https%3A%2F%2Fupgini.com%2F%23data_sources%27%20target%3D%27_blank%27%20rel%3D%27noopener%20noreferrer%27%3ECalendar%20data%3C%2Fa%3E%09Daily%0Af_events_date_year_cos1_9014a856%091.6201%09%09100.0%090.3253,%20-0.263,%20-0.3496%09Upgini%09Calendar%20data%09Daily%0Af_autofe_roll_3d_median_97804b26e6%090.6399%09%09100.0%0980.0,%2051.0,%2091.0%09Training%20dataset%09AutoFE%3A%20features%20from%20Training%20dataset%09%0Af_events_date_week_sin1_847b5db1%090.5333%09%09100.0%090.0,%20-0.4339,%20-0.9749%09Upgini%09Calendar%20data%09Daily%0Aitem%090.3368%09%09100.0%0940,%2030,%2018%09%09%09%0Af_economic_date_cbpol_umap_6_aa0352de%090.2487%09%09100.0%092.2567,%201.8214,%206.9596%09Upgini%09World%20economic%20indicators%09Daily%0Af_autofe_lag_7d_4a1d9c9dff%090.1636%09%0999.19517102615694%09135.0,%2067.0,%2061.0%09Training%20dataset%09AutoFE%3A%20features%20from%20Training%20dataset%09%0A'))>📂 Copy</button>\n",
              "                <a href='mailto:<Share with...>?subject=Relevant external data sources from Upgini.com&body=Feature%20name%09SHAP%20value%09PSI%20value%09Coverage%20%25%09Value%20preview%09Provider%09Source%09Updates%0Af_autofe_lag_28d_aaadd46bbb%0912.226%09%0997.10896960711638%09135.0,%2067.0,%2061.0%09Training%20dataset%09AutoFE%3A%20features%20from%20Training%20dataset%09%0Astore%098.019%09%09100.0%095,%2010,%207%09%09%09%0Af_events_date_week_cos3_7525fe31%093.9%09%09100.0%091.0,%20-0.2225,%200.6235%09Upgini%09Calendar%20data%09Daily%0Af_financial_date_crude_oil_7d_to_1y_c3e0ad17%092.1846%09%09100.0%090.8935,%200.776,%201.0769%09Upgini%09Markets%20data%09Daily%0Af_events_date_year_sin2_59955ffd%091.9209%09%09100.0%09-0.6153,%200.3847,%20-0.1628%09Upgini%09Calendar%20data%09Daily%0Af_autofe_roll_3d_min_1a2ad6d8bb%091.7003%09%09100.0%090.3253,%20-0.2795,%20-0.3817%09Training%20dataset,%20Upgini%09AutoFE%3A%20features%20from%20Training%20dataset,%3Ca%20href%3D%27https%3A%2F%2Fupgini.com%2F%23data_sources%27%20target%3D%27_blank%27%20rel%3D%27noopener%20noreferrer%27%3ECalendar%20data%3C%2Fa%3E%09Daily%0Af_autofe_roll_3d_median_8e12f1e1e9%091.6415%09%09100.0%090.309,%20-0.263,%20-0.3496%09Training%20dataset,%20Upgini%09AutoFE%3A%20features%20from%20Training%20dataset,%3Ca%20href%3D%27https%3A%2F%2Fupgini.com%2F%23data_sources%27%20target%3D%27_blank%27%20rel%3D%27noopener%20noreferrer%27%3ECalendar%20data%3C%2Fa%3E%09Daily%0Af_events_date_year_cos1_9014a856%091.6201%09%09100.0%090.3253,%20-0.263,%20-0.3496%09Upgini%09Calendar%20data%09Daily%0Af_autofe_roll_3d_median_97804b26e6%090.6399%09%09100.0%0980.0,%2051.0,%2091.0%09Training%20dataset%09AutoFE%3A%20features%20from%20Training%20dataset%09%0Af_events_date_week_sin1_847b5db1%090.5333%09%09100.0%090.0,%20-0.4339,%20-0.9749%09Upgini%09Calendar%20data%09Daily%0Aitem%090.3368%09%09100.0%0940,%2030,%2018%09%09%09%0Af_economic_date_cbpol_umap_6_aa0352de%090.2487%09%09100.0%092.2567,%201.8214,%206.9596%09Upgini%09World%20economic%20indicators%09Daily%0Af_autofe_lag_7d_4a1d9c9dff%090.1636%09%0999.19517102615694%09135.0,%2067.0,%2061.0%09Training%20dataset%09AutoFE%3A%20features%20from%20Training%20dataset%09%0A'>\n",
              "                    <button>📨 Share</button>\n",
              "                </a>\n",
              "            </div>\n",
              "            <table class='upgini-df'><thead><th>Feature name</th><th>SHAP value</th><th>Coverage %</th><th>Value preview</th><th>Provider</th><th>Source</th><th>Updates</th></thead><tbody><tr><td class='upgini-text'>f_autofe_lag_28d_aaadd46bbb</td><td class='upgini-number'>12.2260</td><td class='upgini-number'>97.1090</td><td class='upgini-text'>135.0, 67.0, 61.0</td><td class='upgini-text'>Training dataset</td><td class='upgini-text'>AutoFE: features from Training dataset</td><td class='upgini-text'>&nbsp;</td></tr><tr><td class='upgini-text'>store</td><td class='upgini-number'>8.0190</td><td class='upgini-number'>100.0000</td><td class='upgini-text'>5, 10, 7</td><td class='upgini-text'>&nbsp;</td><td class='upgini-text'>&nbsp;</td><td class='upgini-text'>&nbsp;</td></tr><tr><td class='upgini-text'><a href='https://docs.upgini.com/public/calendar/calendar#f_events_date_week_cos3_7525fe31' target='_blank' rel='noopener noreferrer'>f_events_date_week_cos3_7525fe31</a></td><td class='upgini-number'>3.9000</td><td class='upgini-number'>100.0000</td><td class='upgini-text'>1.0, -0.2225, 0.6235</td><td class='upgini-text'><a href='https://upgini.com/' target='_blank' rel='noopener noreferrer'>Upgini</a></td><td class='upgini-text'><a href='https://upgini.com/#data_sources' target='_blank' rel='noopener noreferrer'>Calendar data</a></td><td class='upgini-text'>Daily</td></tr><tr><td class='upgini-text'><a href='https://docs.upgini.com/public/markets/finance#f_financial_date_crude_oil_7d_to_1y_c3e0ad17' target='_blank' rel='noopener noreferrer'>f_financial_date_crude_oil_7d_to_1y_c3e0ad17</a></td><td class='upgini-number'>2.1846</td><td class='upgini-number'>100.0000</td><td class='upgini-text'>0.8935, 0.776, 1.0769</td><td class='upgini-text'><a href='https://upgini.com/' target='_blank' rel='noopener noreferrer'>Upgini</a></td><td class='upgini-text'><a href='https://upgini.com/#data_sources' target='_blank' rel='noopener noreferrer'>Markets data</a></td><td class='upgini-text'>Daily</td></tr><tr><td class='upgini-text'><a href='https://docs.upgini.com/public/calendar/calendar#f_events_date_year_sin2_59955ffd' target='_blank' rel='noopener noreferrer'>f_events_date_year_sin2_59955ffd</a></td><td class='upgini-number'>1.9209</td><td class='upgini-number'>100.0000</td><td class='upgini-text'>-0.6153, 0.3847, -0.1628</td><td class='upgini-text'><a href='https://upgini.com/' target='_blank' rel='noopener noreferrer'>Upgini</a></td><td class='upgini-text'><a href='https://upgini.com/#data_sources' target='_blank' rel='noopener noreferrer'>Calendar data</a></td><td class='upgini-text'>Daily</td></tr><tr><td class='upgini-text'>f_autofe_roll_3d_min_1a2ad6d8bb</td><td class='upgini-number'>1.7003</td><td class='upgini-number'>100.0000</td><td class='upgini-text'>0.3253, -0.2795, -0.3817</td><td class='upgini-text'>Training dataset,<a href='https://upgini.com/' target='_blank' rel='noopener noreferrer'>Upgini</a></td><td class='upgini-text'>AutoFE: features from Training dataset,<a href='https://upgini.com/#data_sources' target='_blank' rel='noopener noreferrer'>Calendar data</a></td><td class='upgini-text'>Daily</td></tr><tr><td class='upgini-text'>f_autofe_roll_3d_median_8e12f1e1e9</td><td class='upgini-number'>1.6415</td><td class='upgini-number'>100.0000</td><td class='upgini-text'>0.309, -0.263, -0.3496</td><td class='upgini-text'>Training dataset,<a href='https://upgini.com/' target='_blank' rel='noopener noreferrer'>Upgini</a></td><td class='upgini-text'>AutoFE: features from Training dataset,<a href='https://upgini.com/#data_sources' target='_blank' rel='noopener noreferrer'>Calendar data</a></td><td class='upgini-text'>Daily</td></tr><tr><td class='upgini-text'><a href='https://docs.upgini.com/public/calendar/calendar#f_events_date_year_cos1_9014a856' target='_blank' rel='noopener noreferrer'>f_events_date_year_cos1_9014a856</a></td><td class='upgini-number'>1.6201</td><td class='upgini-number'>100.0000</td><td class='upgini-text'>0.3253, -0.263, -0.3496</td><td class='upgini-text'><a href='https://upgini.com/' target='_blank' rel='noopener noreferrer'>Upgini</a></td><td class='upgini-text'><a href='https://upgini.com/#data_sources' target='_blank' rel='noopener noreferrer'>Calendar data</a></td><td class='upgini-text'>Daily</td></tr><tr><td class='upgini-text'>f_autofe_roll_3d_median_97804b26e6</td><td class='upgini-number'>0.6399</td><td class='upgini-number'>100.0000</td><td class='upgini-text'>80.0, 51.0, 91.0</td><td class='upgini-text'>Training dataset</td><td class='upgini-text'>AutoFE: features from Training dataset</td><td class='upgini-text'>&nbsp;</td></tr><tr><td class='upgini-text'><a href='https://docs.upgini.com/public/calendar/calendar#f_events_date_week_sin1_847b5db1' target='_blank' rel='noopener noreferrer'>f_events_date_week_sin1_847b5db1</a></td><td class='upgini-number'>0.5333</td><td class='upgini-number'>100.0000</td><td class='upgini-text'>0.0, -0.4339, -0.9749</td><td class='upgini-text'><a href='https://upgini.com/' target='_blank' rel='noopener noreferrer'>Upgini</a></td><td class='upgini-text'><a href='https://upgini.com/#data_sources' target='_blank' rel='noopener noreferrer'>Calendar data</a></td><td class='upgini-text'>Daily</td></tr><tr><td class='upgini-text'>item</td><td class='upgini-number'>0.3368</td><td class='upgini-number'>100.0000</td><td class='upgini-text'>40, 30, 18</td><td class='upgini-text'>&nbsp;</td><td class='upgini-text'>&nbsp;</td><td class='upgini-text'>&nbsp;</td></tr><tr><td class='upgini-text'><a href='https://docs.upgini.com/public/economics/cbpol_umap#f_economic_date_cbpol_umap_6_aa0352de' target='_blank' rel='noopener noreferrer'>f_economic_date_cbpol_umap_6_aa0352de</a></td><td class='upgini-number'>0.2487</td><td class='upgini-number'>100.0000</td><td class='upgini-text'>2.2567, 1.8214, 6.9596</td><td class='upgini-text'><a href='https://upgini.com/' target='_blank' rel='noopener noreferrer'>Upgini</a></td><td class='upgini-text'><a href='https://upgini.com/#data_sources' target='_blank' rel='noopener noreferrer'>World economic indicators</a></td><td class='upgini-text'>Daily</td></tr><tr><td class='upgini-text'>f_autofe_lag_7d_4a1d9c9dff</td><td class='upgini-number'>0.1636</td><td class='upgini-number'>99.1952</td><td class='upgini-text'>135.0, 67.0, 61.0</td><td class='upgini-text'>Training dataset</td><td class='upgini-text'>AutoFE: features from Training dataset</td><td class='upgini-text'>&nbsp;</td></tr></tbody></table>\n",
              "        </div>\n",
              "        "
            ]
          },
          "metadata": {}
        },
        {
          "output_type": "display_data",
          "data": {
            "text/plain": [
              "<IPython.core.display.HTML object>"
            ],
            "text/html": [
              "<style>\n",
              "            .upgini-df thead th {\n",
              "                font-weight:bold;\n",
              "                text-align: center;\n",
              "                padding: 0.5em;\n",
              "                border-bottom: 2px solid black;\n",
              "            }\n",
              "\n",
              "            .upgini-df tbody td {\n",
              "                padding: 0.5em;\n",
              "                color: black;\n",
              "            }\n",
              "\n",
              "            .upgini-df tbody tr:nth-child(odd) {\n",
              "                background-color: #ffffff;\n",
              "            }\n",
              "\n",
              "            .upgini-df tbody tr:nth-child(even) {\n",
              "                background-color: #f2f2f2;\n",
              "            }\n",
              "\n",
              "            .upgini-text {\n",
              "                text-align: left;\n",
              "            }\n",
              "\n",
              "            .upgini-number {\n",
              "                text-align: center;\n",
              "            }\n",
              "        </style>\n",
              "        <h2>Relevant data sources</h2>\n",
              "        <div style=\"display:flex; flex-direction:column; align-items:flex-end; width: fit-content;\">\n",
              "            \n",
              "            <div style=\"text-align: right\">\n",
              "                <button onclick=navigator.clipboard.writeText(decodeURI('Provider%09Source%09All%20features%20SHAP%09Number%20of%20relevant%20features%0ATraining%20dataset%09AutoFE%3A%20features%20from%20Training%20dataset%0913.0295%093%0AUpgini%09Calendar%20data%097.9743%094%0ATraining%20dataset,%20Upgini%09AutoFE%3A%20features%20from%20Training%20dataset,%3Ca%20href%3D%27https%3A%2F%2Fupgini.com%2F%23data_sources%27%20target%3D%27_blank%27%20rel%3D%27noopener%20noreferrer%27%3ECalendar%20data%3C%2Fa%3E%093.3418%092%0AUpgini%09Markets%20data%092.1846%091%0AUpgini%09World%20economic%20indicators%090.2487%091%0A'))>📂 Copy</button>\n",
              "                <a href='mailto:<Share with...>?subject=Relevant external data sources from Upgini.com&body=Provider%09Source%09All%20features%20SHAP%09Number%20of%20relevant%20features%0ATraining%20dataset%09AutoFE%3A%20features%20from%20Training%20dataset%0913.0295%093%0AUpgini%09Calendar%20data%097.9743%094%0ATraining%20dataset,%20Upgini%09AutoFE%3A%20features%20from%20Training%20dataset,%3Ca%20href%3D%27https%3A%2F%2Fupgini.com%2F%23data_sources%27%20target%3D%27_blank%27%20rel%3D%27noopener%20noreferrer%27%3ECalendar%20data%3C%2Fa%3E%093.3418%092%0AUpgini%09Markets%20data%092.1846%091%0AUpgini%09World%20economic%20indicators%090.2487%091%0A'>\n",
              "                    <button>📨 Share</button>\n",
              "                </a>\n",
              "            </div>\n",
              "            <table class='upgini-df'><thead><th>Provider</th><th>Source</th><th>All features SHAP</th><th>Number of relevant features</th></thead><tbody><tr><td class='upgini-text'>Training dataset</td><td class='upgini-text'>AutoFE: features from Training dataset</td><td class='upgini-number'>13.0295</td><td class='upgini-number'>3</td></tr><tr><td class='upgini-text'><a href='https://upgini.com/' target='_blank' rel='noopener noreferrer'>Upgini</a></td><td class='upgini-text'><a href='https://upgini.com/#data_sources' target='_blank' rel='noopener noreferrer'>Calendar data</a></td><td class='upgini-number'>7.9743</td><td class='upgini-number'>4</td></tr><tr><td class='upgini-text'>Training dataset,<a href='https://upgini.com/' target='_blank' rel='noopener noreferrer'>Upgini</a></td><td class='upgini-text'>AutoFE: features from Training dataset,<a href='https://upgini.com/#data_sources' target='_blank' rel='noopener noreferrer'>Calendar data</a></td><td class='upgini-number'>3.3418</td><td class='upgini-number'>2</td></tr><tr><td class='upgini-text'><a href='https://upgini.com/' target='_blank' rel='noopener noreferrer'>Upgini</a></td><td class='upgini-text'><a href='https://upgini.com/#data_sources' target='_blank' rel='noopener noreferrer'>Markets data</a></td><td class='upgini-number'>2.1846</td><td class='upgini-number'>1</td></tr><tr><td class='upgini-text'><a href='https://upgini.com/' target='_blank' rel='noopener noreferrer'>Upgini</a></td><td class='upgini-text'><a href='https://upgini.com/#data_sources' target='_blank' rel='noopener noreferrer'>World economic indicators</a></td><td class='upgini-number'>0.2487</td><td class='upgini-number'>1</td></tr></tbody></table>\n",
              "        </div>\n",
              "        "
            ]
          },
          "metadata": {}
        },
        {
          "output_type": "display_data",
          "data": {
            "text/plain": [
              "<IPython.core.display.HTML object>"
            ],
            "text/html": [
              "<style>\n",
              "            .upgini-df thead th {\n",
              "                font-weight:bold;\n",
              "                text-align: center;\n",
              "                padding: 0.5em;\n",
              "                border-bottom: 2px solid black;\n",
              "            }\n",
              "\n",
              "            .upgini-df tbody td {\n",
              "                padding: 0.5em;\n",
              "                color: black;\n",
              "            }\n",
              "\n",
              "            .upgini-df tbody tr:nth-child(odd) {\n",
              "                background-color: #ffffff;\n",
              "            }\n",
              "\n",
              "            .upgini-df tbody tr:nth-child(even) {\n",
              "                background-color: #f2f2f2;\n",
              "            }\n",
              "\n",
              "            .upgini-text {\n",
              "                text-align: left;\n",
              "            }\n",
              "\n",
              "            .upgini-number {\n",
              "                text-align: center;\n",
              "            }\n",
              "        </style>\n",
              "        <h2>*Description of AutoFE feature names</h2>\n",
              "        <div style=\"display:flex; flex-direction:column; align-items:flex-end; width: fit-content;\">\n",
              "            \n",
              "            <div style=\"text-align: right\">\n",
              "                <button onclick=navigator.clipboard.writeText(decodeURI('Sources%09Feature%20name%09Feature%201%09Function%0ATraining%20dataset%09f_autofe_lag_28d_aaadd46bbb%09target%09lag_28d%0ATraining%20dataset,%3Ca%20href%3D%27https%3A%2F%2Fupgini.com%2F%23data_sources%27%20target%3D%27_blank%27%20rel%3D%27noopener%20noreferrer%27%3ECalendar%20data%3C%2Fa%3E%09f_autofe_roll_3d_min_1a2ad6d8bb%09f_events_date_year_cos1_9014a856%09roll_3d_min%0ATraining%20dataset,%3Ca%20href%3D%27https%3A%2F%2Fupgini.com%2F%23data_sources%27%20target%3D%27_blank%27%20rel%3D%27noopener%20noreferrer%27%3ECalendar%20data%3C%2Fa%3E%09f_autofe_roll_3d_median_8e12f1e1e9%09f_events_date_year_cos1_9014a856%09roll_3d_median%0ATraining%20dataset%09f_autofe_roll_3d_median_97804b26e6%09target%09roll_3d_median%0ATraining%20dataset%09f_autofe_lag_7d_4a1d9c9dff%09target%09lag_7d%0A'))>📂 Copy</button>\n",
              "                <a href='mailto:<Share with...>?subject=Relevant external data sources from Upgini.com&body=Sources%09Feature%20name%09Feature%201%09Function%0ATraining%20dataset%09f_autofe_lag_28d_aaadd46bbb%09target%09lag_28d%0ATraining%20dataset,%3Ca%20href%3D%27https%3A%2F%2Fupgini.com%2F%23data_sources%27%20target%3D%27_blank%27%20rel%3D%27noopener%20noreferrer%27%3ECalendar%20data%3C%2Fa%3E%09f_autofe_roll_3d_min_1a2ad6d8bb%09f_events_date_year_cos1_9014a856%09roll_3d_min%0ATraining%20dataset,%3Ca%20href%3D%27https%3A%2F%2Fupgini.com%2F%23data_sources%27%20target%3D%27_blank%27%20rel%3D%27noopener%20noreferrer%27%3ECalendar%20data%3C%2Fa%3E%09f_autofe_roll_3d_median_8e12f1e1e9%09f_events_date_year_cos1_9014a856%09roll_3d_median%0ATraining%20dataset%09f_autofe_roll_3d_median_97804b26e6%09target%09roll_3d_median%0ATraining%20dataset%09f_autofe_lag_7d_4a1d9c9dff%09target%09lag_7d%0A'>\n",
              "                    <button>📨 Share</button>\n",
              "                </a>\n",
              "            </div>\n",
              "            <table class='upgini-df'><thead><th>Sources</th><th>Feature name</th><th>Feature 1</th><th>Function</th></thead><tbody><tr><td class='upgini-text'>Training dataset</td><td class='upgini-text'>f_autofe_lag_28d_aaadd46bbb</td><td class='upgini-text'>target</td><td class='upgini-text'>lag_28d</td></tr><tr><td class='upgini-text'>Training dataset,<a href='https://upgini.com/#data_sources' target='_blank' rel='noopener noreferrer'>Calendar data</a></td><td class='upgini-text'>f_autofe_roll_3d_min_1a2ad6d8bb</td><td class='upgini-text'>f_events_date_year_cos1_9014a856</td><td class='upgini-text'>roll_3d_min</td></tr><tr><td class='upgini-text'>Training dataset,<a href='https://upgini.com/#data_sources' target='_blank' rel='noopener noreferrer'>Calendar data</a></td><td class='upgini-text'>f_autofe_roll_3d_median_8e12f1e1e9</td><td class='upgini-text'>f_events_date_year_cos1_9014a856</td><td class='upgini-text'>roll_3d_median</td></tr><tr><td class='upgini-text'>Training dataset</td><td class='upgini-text'>f_autofe_roll_3d_median_97804b26e6</td><td class='upgini-text'>target</td><td class='upgini-text'>roll_3d_median</td></tr><tr><td class='upgini-text'>Training dataset</td><td class='upgini-text'>f_autofe_lag_7d_4a1d9c9dff</td><td class='upgini-text'>target</td><td class='upgini-text'>lag_7d</td></tr></tbody></table>\n",
              "        </div>\n",
              "        "
            ]
          },
          "metadata": {}
        },
        {
          "output_type": "stream",
          "name": "stdout",
          "text": [
            "We detected 25 outliers in your sample.\n",
            "Examples of outliers with maximum value of target:\n",
            "17    196\n",
            "12    187\n",
            "15    171\n",
            "Name: target, dtype: int64\n",
            "Outliers will be excluded during the metrics calculation.\n",
            "Calculating accuracy uplift after enrichment...\n"
          ]
        },
        {
          "output_type": "stream",
          "name": "stderr",
          "text": [
            "/usr/local/lib/python3.12/dist-packages/upgini/features_enricher.py:4491: FutureWarning: Downcasting object dtype arrays on .fillna, .ffill, .bfill is deprecated and will change in a future version. Call result.infer_objects(copy=False) instead. To opt-in to the future behavior, set `pd.set_option('future.no_silent_downcasting', True)`\n",
            "  if self.features_info[self.bundle.get(\"features_info_psi\")].fillna(0.0).eq(0.0).all():\n"
          ]
        },
        {
          "output_type": "display_data",
          "data": {
            "text/plain": [
              "<IPython.core.display.HTML object>"
            ],
            "text/html": [
              "<style>\n",
              "            .upgini-df thead th {\n",
              "                font-weight:bold;\n",
              "                text-align: center;\n",
              "                padding: 0.5em;\n",
              "                border-bottom: 2px solid black;\n",
              "            }\n",
              "\n",
              "            .upgini-df tbody td {\n",
              "                padding: 0.5em;\n",
              "                color: black;\n",
              "            }\n",
              "\n",
              "            .upgini-df tbody tr:nth-child(odd) {\n",
              "                background-color: #ffffff;\n",
              "            }\n",
              "\n",
              "            .upgini-df tbody tr:nth-child(even) {\n",
              "                background-color: #f2f2f2;\n",
              "            }\n",
              "\n",
              "            .upgini-text {\n",
              "                text-align: left;\n",
              "            }\n",
              "\n",
              "            .upgini-number {\n",
              "                text-align: center;\n",
              "            }\n",
              "        </style>\n",
              "        <h2>Accuracy after enrichment</h2>\n",
              "        <div style=\"display:flex; flex-direction:column; align-items:flex-end; width: fit-content;\">\n",
              "            \n",
              "            <div style=\"text-align: right\">\n",
              "                <button onclick=navigator.clipboard.writeText(decodeURI('Dataset%20type%09Rows%09Mean%20target%09Baseline%20MAPE%09Enriched%20MAPE%09Uplift,%20abs%09Uplift,%20%25%0ATrain%099418%0953.3352%090.324%20%C2%B1%200.109%090.299%20%C2%B1%200.100%090.025%097.7%25%0A'))>📂 Copy</button>\n",
              "                <a href='mailto:<Share with...>?subject=Relevant external data sources from Upgini.com&body=Dataset%20type%09Rows%09Mean%20target%09Baseline%20MAPE%09Enriched%20MAPE%09Uplift,%20abs%09Uplift,%20%25%0ATrain%099418%0953.3352%090.324%20%C2%B1%200.109%090.299%20%C2%B1%200.100%090.025%097.7%25%0A'>\n",
              "                    <button>📨 Share</button>\n",
              "                </a>\n",
              "            </div>\n",
              "            <table class='upgini-df'><thead><th>Dataset type</th><th>Rows</th><th>Mean target</th><th>Baseline MAPE</th><th>Enriched MAPE</th><th>Uplift, abs</th><th>Uplift, %</th></thead><tbody><tr><td class='upgini-text'>Train</td><td class='upgini-number'>9418</td><td class='upgini-number'>53.3352</td><td class='upgini-text'>0.324 ± 0.109</td><td class='upgini-text'>0.299 ± 0.100</td><td class='upgini-number'>0.0250</td><td class='upgini-text'>7.7%</td></tr></tbody></table>\n",
              "        </div>\n",
              "        "
            ]
          },
          "metadata": {}
        },
        {
          "output_type": "display_data",
          "data": {
            "text/plain": [
              "<IPython.core.display.HTML object>"
            ],
            "text/html": [
              "<a download=\"upgini-report-126cc21f-c19e-40d7-be98-aa5327a0e34b.pdf\" href=\"data:application/pdf;base64,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\" target=\"_blank\">\n",
              "        <button>📊 Download PDF report</button></a>"
            ]
          },
          "metadata": {}
        }
      ]
    },
    {
      "cell_type": "code",
      "source": [
        "from catboost import CatBoostRegressor\n",
        "from catboost.utils import eval_metric\n",
        "model=CatBoostRegressor(verbose=False,allow_writing_files=False,random_state=0)\n",
        "enricher.calculate_metrics(\n",
        "    train_features,train_target,\n",
        "    eval_set=[(test_features,test_target)],\n",
        "    estimator=model,\n",
        "    scoring=\"mean_absolute_percentage_error\"\n",
        ")"
      ],
      "metadata": {
        "colab": {
          "base_uri": "https://localhost:8080/",
          "height": 187
        },
        "id": "0arfuzcOg2xV",
        "outputId": "ace86195-75c4-4042-965f-726cc791a6a9"
      },
      "execution_count": 29,
      "outputs": [
        {
          "output_type": "stream",
          "name": "stdout",
          "text": [
            "Eval set 1 is equal to train set and will be ignored\n",
            "Eval set 1 is equal to train set and will be ignored\n",
            "Calculating accuracy uplift after enrichment...\n"
          ]
        },
        {
          "output_type": "stream",
          "name": "stderr",
          "text": [
            "/usr/local/lib/python3.12/dist-packages/upgini/features_enricher.py:4491: FutureWarning: Downcasting object dtype arrays on .fillna, .ffill, .bfill is deprecated and will change in a future version. Call result.infer_objects(copy=False) instead. To opt-in to the future behavior, set `pd.set_option('future.no_silent_downcasting', True)`\n",
            "  if self.features_info[self.bundle.get(\"features_info_psi\")].fillna(0.0).eq(0.0).all():\n"
          ]
        },
        {
          "output_type": "execute_result",
          "data": {
            "text/plain": [
              "  Dataset type  Rows  Mean target  Baseline MAPE  Enriched MAPE  Uplift, abs  \\\n",
              "0        Train  9418      53.3352  0.288 ± 0.096  0.229 ± 0.112        0.059   \n",
              "\n",
              "  Uplift, %  \n",
              "0     20.5%  "
            ],
            "text/html": [
              "\n",
              "  <div id=\"df-b88ef227-43d6-42cb-9c68-c021b10a1f5b\" class=\"colab-df-container\">\n",
              "    <div>\n",
              "<style scoped>\n",
              "    .dataframe tbody tr th:only-of-type {\n",
              "        vertical-align: middle;\n",
              "    }\n",
              "\n",
              "    .dataframe tbody tr th {\n",
              "        vertical-align: top;\n",
              "    }\n",
              "\n",
              "    .dataframe thead th {\n",
              "        text-align: right;\n",
              "    }\n",
              "</style>\n",
              "<table border=\"1\" class=\"dataframe\">\n",
              "  <thead>\n",
              "    <tr style=\"text-align: right;\">\n",
              "      <th></th>\n",
              "      <th>Dataset type</th>\n",
              "      <th>Rows</th>\n",
              "      <th>Mean target</th>\n",
              "      <th>Baseline MAPE</th>\n",
              "      <th>Enriched MAPE</th>\n",
              "      <th>Uplift, abs</th>\n",
              "      <th>Uplift, %</th>\n",
              "    </tr>\n",
              "  </thead>\n",
              "  <tbody>\n",
              "    <tr>\n",
              "      <th>0</th>\n",
              "      <td>Train</td>\n",
              "      <td>9418</td>\n",
              "      <td>53.3352</td>\n",
              "      <td>0.288 ± 0.096</td>\n",
              "      <td>0.229 ± 0.112</td>\n",
              "      <td>0.059</td>\n",
              "      <td>20.5%</td>\n",
              "    </tr>\n",
              "  </tbody>\n",
              "</table>\n",
              "</div>\n",
              "    <div class=\"colab-df-buttons\">\n",
              "\n",
              "  <div class=\"colab-df-container\">\n",
              "    <button class=\"colab-df-convert\" onclick=\"convertToInteractive('df-b88ef227-43d6-42cb-9c68-c021b10a1f5b')\"\n",
              "            title=\"Convert this dataframe to an interactive table.\"\n",
              "            style=\"display:none;\">\n",
              "\n",
              "  <svg xmlns=\"http://www.w3.org/2000/svg\" height=\"24px\" viewBox=\"0 -960 960 960\">\n",
              "    <path d=\"M120-120v-720h720v720H120Zm60-500h600v-160H180v160Zm220 220h160v-160H400v160Zm0 220h160v-160H400v160ZM180-400h160v-160H180v160Zm440 0h160v-160H620v160ZM180-180h160v-160H180v160Zm440 0h160v-160H620v160Z\"/>\n",
              "  </svg>\n",
              "    </button>\n",
              "\n",
              "  <style>\n",
              "    .colab-df-container {\n",
              "      display:flex;\n",
              "      gap: 12px;\n",
              "    }\n",
              "\n",
              "    .colab-df-convert {\n",
              "      background-color: #E8F0FE;\n",
              "      border: none;\n",
              "      border-radius: 50%;\n",
              "      cursor: pointer;\n",
              "      display: none;\n",
              "      fill: #1967D2;\n",
              "      height: 32px;\n",
              "      padding: 0 0 0 0;\n",
              "      width: 32px;\n",
              "    }\n",
              "\n",
              "    .colab-df-convert:hover {\n",
              "      background-color: #E2EBFA;\n",
              "      box-shadow: 0px 1px 2px rgba(60, 64, 67, 0.3), 0px 1px 3px 1px rgba(60, 64, 67, 0.15);\n",
              "      fill: #174EA6;\n",
              "    }\n",
              "\n",
              "    .colab-df-buttons div {\n",
              "      margin-bottom: 4px;\n",
              "    }\n",
              "\n",
              "    [theme=dark] .colab-df-convert {\n",
              "      background-color: #3B4455;\n",
              "      fill: #D2E3FC;\n",
              "    }\n",
              "\n",
              "    [theme=dark] .colab-df-convert:hover {\n",
              "      background-color: #434B5C;\n",
              "      box-shadow: 0px 1px 3px 1px rgba(0, 0, 0, 0.15);\n",
              "      filter: drop-shadow(0px 1px 2px rgba(0, 0, 0, 0.3));\n",
              "      fill: #FFFFFF;\n",
              "    }\n",
              "  </style>\n",
              "\n",
              "    <script>\n",
              "      const buttonEl =\n",
              "        document.querySelector('#df-b88ef227-43d6-42cb-9c68-c021b10a1f5b button.colab-df-convert');\n",
              "      buttonEl.style.display =\n",
              "        google.colab.kernel.accessAllowed ? 'block' : 'none';\n",
              "\n",
              "      async function convertToInteractive(key) {\n",
              "        const element = document.querySelector('#df-b88ef227-43d6-42cb-9c68-c021b10a1f5b');\n",
              "        const dataTable =\n",
              "          await google.colab.kernel.invokeFunction('convertToInteractive',\n",
              "                                                    [key], {});\n",
              "        if (!dataTable) return;\n",
              "\n",
              "        const docLinkHtml = 'Like what you see? Visit the ' +\n",
              "          '<a target=\"_blank\" href=https://colab.research.google.com/notebooks/data_table.ipynb>data table notebook</a>'\n",
              "          + ' to learn more about interactive tables.';\n",
              "        element.innerHTML = '';\n",
              "        dataTable['output_type'] = 'display_data';\n",
              "        await google.colab.output.renderOutput(dataTable, element);\n",
              "        const docLink = document.createElement('div');\n",
              "        docLink.innerHTML = docLinkHtml;\n",
              "        element.appendChild(docLink);\n",
              "      }\n",
              "    </script>\n",
              "  </div>\n",
              "\n",
              "\n",
              "    </div>\n",
              "  </div>\n"
            ],
            "application/vnd.google.colaboratory.intrinsic+json": {
              "type": "dataframe",
              "summary": "{\n  \"name\": \")\",\n  \"rows\": 1,\n  \"fields\": [\n    {\n      \"column\": \"Dataset type\",\n      \"properties\": {\n        \"dtype\": \"string\",\n        \"num_unique_values\": 1,\n        \"samples\": [\n          \"Train\"\n        ],\n        \"semantic_type\": \"\",\n        \"description\": \"\"\n      }\n    },\n    {\n      \"column\": \"Rows\",\n      \"properties\": {\n        \"dtype\": \"number\",\n        \"std\": null,\n        \"min\": 9418,\n        \"max\": 9418,\n        \"num_unique_values\": 1,\n        \"samples\": [\n          9418\n        ],\n        \"semantic_type\": \"\",\n        \"description\": \"\"\n      }\n    },\n    {\n      \"column\": \"Mean target\",\n      \"properties\": {\n        \"dtype\": \"number\",\n        \"std\": null,\n        \"min\": 53.3352,\n        \"max\": 53.3352,\n        \"num_unique_values\": 1,\n        \"samples\": [\n          53.3352\n        ],\n        \"semantic_type\": \"\",\n        \"description\": \"\"\n      }\n    },\n    {\n      \"column\": \"Baseline MAPE\",\n      \"properties\": {\n        \"dtype\": \"string\",\n        \"num_unique_values\": 1,\n        \"samples\": [\n          \"0.288 \\u00b1 0.096\"\n        ],\n        \"semantic_type\": \"\",\n        \"description\": \"\"\n      }\n    },\n    {\n      \"column\": \"Enriched MAPE\",\n      \"properties\": {\n        \"dtype\": \"string\",\n        \"num_unique_values\": 1,\n        \"samples\": [\n          \"0.229 \\u00b1 0.112\"\n        ],\n        \"semantic_type\": \"\",\n        \"description\": \"\"\n      }\n    },\n    {\n      \"column\": \"Uplift, abs\",\n      \"properties\": {\n        \"dtype\": \"number\",\n        \"std\": null,\n        \"min\": 0.059,\n        \"max\": 0.059,\n        \"num_unique_values\": 1,\n        \"samples\": [\n          0.059\n        ],\n        \"semantic_type\": \"\",\n        \"description\": \"\"\n      }\n    },\n    {\n      \"column\": \"Uplift, %\",\n      \"properties\": {\n        \"dtype\": \"string\",\n        \"num_unique_values\": 1,\n        \"samples\": [\n          \"20.5%\"\n        ],\n        \"semantic_type\": \"\",\n        \"description\": \"\"\n      }\n    }\n  ]\n}"
            }
          },
          "metadata": {},
          "execution_count": 29
        }
      ]
    },
    {
      "cell_type": "code",
      "source": [
        "sampled_train_features = train_features.sample(n=1000, random_state=42)\n",
        "sampled_train_target = train_target.loc[sampled_train_features.index]\n",
        "\n",
        "enriched_train_features = enricher.transform(\n",
        "    sampled_train_features,\n",
        "    y=sampled_train_target,\n",
        "    keep_input=True\n",
        ")\n",
        "\n",
        "enriched_train_features.head()\n"
      ],
      "metadata": {
        "colab": {
          "base_uri": "https://localhost:8080/",
          "height": 243,
          "referenced_widgets": [
            "cc7ec72b66e34ddb8746761967629c14",
            "f8cb8c257e82485d925182e28751f717",
            "d7885a0fccaa492ba701b1eef0df3ffd"
          ]
        },
        "id": "1VDAfX7nm-rU",
        "outputId": "77b4d163-e5e9-4f69-bc82-597b8b642006"
      },
      "execution_count": 31,
      "outputs": [
        {
          "output_type": "display_data",
          "data": {
            "text/plain": [
              "[============================================================] 100% Finished"
            ],
            "text/html": [
              "<progress style='width:60ex' max='100' value='100'></progress>  100% Finished</br>"
            ]
          },
          "metadata": {}
        },
        {
          "output_type": "stream",
          "name": "stdout",
          "text": [
            "You are trying to launch enrichment for 1000 rows, which will exceed the rest limit 148.\n"
          ]
        },
        {
          "output_type": "display_data",
          "data": {
            "text/plain": [
              "Button(button_style='danger', description='Request a quote', style=ButtonStyle())"
            ],
            "application/vnd.jupyter.widget-view+json": {
              "version_major": 2,
              "version_minor": 0,
              "model_id": "cc7ec72b66e34ddb8746761967629c14"
            }
          },
          "metadata": {}
        },
        {
          "output_type": "error",
          "ename": "AttributeError",
          "evalue": "'NoneType' object has no attribute 'head'",
          "traceback": [
            "\u001b[0;31m---------------------------------------------------------------------------\u001b[0m",
            "\u001b[0;31mAttributeError\u001b[0m                            Traceback (most recent call last)",
            "\u001b[0;32m/tmp/ipython-input-801345540.py\u001b[0m in \u001b[0;36m<cell line: 0>\u001b[0;34m()\u001b[0m\n\u001b[1;32m      8\u001b[0m )\n\u001b[1;32m      9\u001b[0m \u001b[0;34m\u001b[0m\u001b[0m\n\u001b[0;32m---> 10\u001b[0;31m \u001b[0menriched_train_features\u001b[0m\u001b[0;34m.\u001b[0m\u001b[0mhead\u001b[0m\u001b[0;34m(\u001b[0m\u001b[0;34m)\u001b[0m\u001b[0;34m\u001b[0m\u001b[0;34m\u001b[0m\u001b[0m\n\u001b[0m",
            "\u001b[0;31mAttributeError\u001b[0m: 'NoneType' object has no attribute 'head'"
          ]
        }
      ]
    },
    {
      "cell_type": "code",
      "source": [
        "model.fit(train_features,train_target)\n",
        "preds=model.predict(test_features)\n",
        "eval_metric(test_target.values,preds,'SMAPE')"
      ],
      "metadata": {
        "id": "xNPcod9XpEwP"
      },
      "execution_count": null,
      "outputs": []
    },
    {
      "cell_type": "code",
      "source": [
        "# Split within trial limit\n",
        "train_sample = 800\n",
        "test_sample = 200\n",
        "\n",
        "# Sample train and test\n",
        "sampled_train_features = train_features.sample(n=train_sample, random_state=42)\n",
        "sampled_train_target = train_target.loc[sampled_train_features.index]\n",
        "\n",
        "sampled_test_features = test_features.sample(n=test_sample, random_state=42)\n",
        "sampled_test_target = test_target.loc[sampled_test_features.index]\n",
        "\n",
        "# Enrich train\n",
        "enriched_train_features = enricher.transform(\n",
        "    sampled_train_features,\n",
        "    y=sampled_train_target,\n",
        "    keep_input=True\n",
        ")\n",
        "\n",
        "# Enrich test (add y here to avoid ValidationError)\n",
        "enriched_test_features = enricher.transform(\n",
        "    sampled_test_features,\n",
        "    y=sampled_test_target,\n",
        "    keep_input=True\n",
        ")\n",
        "\n",
        "# Train model\n",
        "model.fit(enriched_train_features, sampled_train_target)\n",
        "\n",
        "# Predict and evaluate\n",
        "enriched_preds = model.predict(enriched_test_features)\n",
        "score = eval_metric(sampled_test_target.values, enriched_preds, 'SMAPE')\n",
        "print(f\"SMAPE: {score}\")\n"
      ],
      "metadata": {
        "colab": {
          "base_uri": "https://localhost:8080/",
          "height": 796,
          "referenced_widgets": [
            "c70bb3b94b174649ab80a71ab18ddb98",
            "2b7449db7aa54c879b872f5a22976a4d",
            "cc96c4d13f0649279b56e92c0756df48"
          ]
        },
        "id": "OY6vI0QipgUc",
        "outputId": "5883c845-5dc3-4b20-f32b-323767eb218a"
      },
      "execution_count": 23,
      "outputs": [
        {
          "data": {
            "text/html": [
              "<progress style='width:60ex' max='100' value='0'></progress>  0% Checking dataset...</br>"
            ],
            "text/plain": [
              "[                                                            ] 0% Checking dataset..."
            ]
          },
          "metadata": {},
          "output_type": "display_data"
        },
        {
          "output_type": "stream",
          "name": "stdout",
          "text": [
            "You are trying to launch enrichment for 800 rows, which will exceed the rest limit 321.\n"
          ]
        },
        {
          "output_type": "display_data",
          "data": {
            "text/plain": [
              "Button(button_style='danger', description='Request a quote', style=ButtonStyle())"
            ],
            "application/vnd.jupyter.widget-view+json": {
              "version_major": 2,
              "version_minor": 0,
              "model_id": "c70bb3b94b174649ab80a71ab18ddb98"
            }
          },
          "metadata": {}
        },
        {
          "output_type": "display_data",
          "data": {
            "text/plain": [
              "[============================================================] 100% Finished"
            ],
            "text/html": [
              "<progress style='width:60ex' max='100' value='100'></progress>  100% Finished</br>"
            ]
          },
          "metadata": {}
        },
        {
          "output_type": "display_data",
          "data": {
            "text/plain": [
              "[============================================================] 100% Finished"
            ],
            "text/html": [
              "<progress style='width:60ex' max='100' value='100'></progress>  100% Finished</br>"
            ]
          },
          "metadata": {}
        },
        {
          "output_type": "stream",
          "name": "stdout",
          "text": [
            "You use Trial access to Upgini data enrichment. Limit for Trial: 1000 rows. You have already enriched: 679 rows.\n",
            "WARNING #1: Search started with DATE search key only\n",
            "Try to add other keys like the COUNTRY, POSTAL_CODE, PHONE NUMBER, EMAIL/HEM, IP to your training dataset\n",
            "for search through all the available data sources.\n",
            "See docs https://github.com/upgini/upgini#-total-239-countries-and-up-to-41-years-of-history\n",
            "\n",
            "WARNING #2: 13.0653% of rows (26) in X and eval_set are duplicates with different y values. These rows will be deleted as incorrect\n",
            "Sample of incorrect row indexes: [4, 15, 16, 22, 32, 34, 35, 65, 75, 81, 83, 100, 107, 109, 111, 114, 115, 117, 119, 121, 125, 151, 153, 160, 161, 168]\n",
            "\n"
          ]
        },
        {
          "output_type": "display_data",
          "data": {
            "text/plain": [
              "<IPython.core.display.HTML object>"
            ],
            "text/html": [
              "<table><tr><th style='font-weight:bold'>Column name</th><th style='font-weight:bold'>Status</th><th style='font-weight:bold'>Errors</th></tr><tr><td>date</td><td style='background-color:#DAF7A6;color:black'>All valid</td><td>-</td></tr></table>"
            ]
          },
          "metadata": {}
        },
        {
          "output_type": "stream",
          "name": "stdout",
          "text": [
            "\n",
            "\n",
            "Running transform request, id=d50e2d27-d766-4e18-95f1-2c1514a97e07\n",
            "We'll send email notification once it's completed, just use your personal api_key from profile.upgini.com\n",
            "\n",
            "Retrieving selected features from data sources...\n"
          ]
        },
        {
          "output_type": "error",
          "ename": "CatBoostError",
          "evalue": "X must not be None",
          "traceback": [
            "\u001b[0;31m---------------------------------------------------------------------------\u001b[0m",
            "\u001b[0;31mCatBoostError\u001b[0m                             Traceback (most recent call last)",
            "\u001b[0;32m/tmp/ipython-input-4036735599.py\u001b[0m in \u001b[0;36m<cell line: 0>\u001b[0;34m()\u001b[0m\n\u001b[1;32m     25\u001b[0m \u001b[0;34m\u001b[0m\u001b[0m\n\u001b[1;32m     26\u001b[0m \u001b[0;31m# Train model\u001b[0m\u001b[0;34m\u001b[0m\u001b[0;34m\u001b[0m\u001b[0m\n\u001b[0;32m---> 27\u001b[0;31m \u001b[0mmodel\u001b[0m\u001b[0;34m.\u001b[0m\u001b[0mfit\u001b[0m\u001b[0;34m(\u001b[0m\u001b[0menriched_train_features\u001b[0m\u001b[0;34m,\u001b[0m \u001b[0msampled_train_target\u001b[0m\u001b[0;34m)\u001b[0m\u001b[0;34m\u001b[0m\u001b[0;34m\u001b[0m\u001b[0m\n\u001b[0m\u001b[1;32m     28\u001b[0m \u001b[0;34m\u001b[0m\u001b[0m\n\u001b[1;32m     29\u001b[0m \u001b[0;31m# Predict and evaluate\u001b[0m\u001b[0;34m\u001b[0m\u001b[0;34m\u001b[0m\u001b[0m\n",
            "\u001b[0;32m/usr/local/lib/python3.12/dist-packages/catboost/core.py\u001b[0m in \u001b[0;36mfit\u001b[0;34m(self, X, y, cat_features, text_features, embedding_features, graph, sample_weight, baseline, use_best_model, eval_set, verbose, logging_level, plot, plot_file, column_description, verbose_eval, metric_period, silent, early_stopping_rounds, save_snapshot, snapshot_file, snapshot_interval, init_model, callbacks, log_cout, log_cerr)\u001b[0m\n\u001b[1;32m   5871\u001b[0m         \u001b[0;32mif\u001b[0m \u001b[0;34m'loss_function'\u001b[0m \u001b[0;32min\u001b[0m \u001b[0mparams\u001b[0m\u001b[0;34m:\u001b[0m\u001b[0;34m\u001b[0m\u001b[0;34m\u001b[0m\u001b[0m\n\u001b[1;32m   5872\u001b[0m             \u001b[0mCatBoostRegressor\u001b[0m\u001b[0;34m.\u001b[0m\u001b[0m_check_is_compatible_loss\u001b[0m\u001b[0;34m(\u001b[0m\u001b[0mparams\u001b[0m\u001b[0;34m[\u001b[0m\u001b[0;34m'loss_function'\u001b[0m\u001b[0;34m]\u001b[0m\u001b[0;34m)\u001b[0m\u001b[0;34m\u001b[0m\u001b[0;34m\u001b[0m\u001b[0m\n\u001b[0;32m-> 5873\u001b[0;31m         return self._fit(X, y, cat_features, text_features, embedding_features, None, graph, sample_weight, None, None, None, None, baseline,\n\u001b[0m\u001b[1;32m   5874\u001b[0m                          \u001b[0muse_best_model\u001b[0m\u001b[0;34m,\u001b[0m \u001b[0meval_set\u001b[0m\u001b[0;34m,\u001b[0m \u001b[0mverbose\u001b[0m\u001b[0;34m,\u001b[0m \u001b[0mlogging_level\u001b[0m\u001b[0;34m,\u001b[0m \u001b[0mplot\u001b[0m\u001b[0;34m,\u001b[0m \u001b[0mplot_file\u001b[0m\u001b[0;34m,\u001b[0m \u001b[0mcolumn_description\u001b[0m\u001b[0;34m,\u001b[0m\u001b[0;34m\u001b[0m\u001b[0;34m\u001b[0m\u001b[0m\n\u001b[1;32m   5875\u001b[0m                          \u001b[0mverbose_eval\u001b[0m\u001b[0;34m,\u001b[0m \u001b[0mmetric_period\u001b[0m\u001b[0;34m,\u001b[0m \u001b[0msilent\u001b[0m\u001b[0;34m,\u001b[0m \u001b[0mearly_stopping_rounds\u001b[0m\u001b[0;34m,\u001b[0m\u001b[0;34m\u001b[0m\u001b[0;34m\u001b[0m\u001b[0m\n",
            "\u001b[0;32m/usr/local/lib/python3.12/dist-packages/catboost/core.py\u001b[0m in \u001b[0;36m_fit\u001b[0;34m(self, X, y, cat_features, text_features, embedding_features, pairs, graph, sample_weight, group_id, group_weight, subgroup_id, pairs_weight, baseline, use_best_model, eval_set, verbose, logging_level, plot, plot_file, column_description, verbose_eval, metric_period, silent, early_stopping_rounds, save_snapshot, snapshot_file, snapshot_interval, init_model, callbacks, log_cout, log_cerr)\u001b[0m\n\u001b[1;32m   2388\u001b[0m         \u001b[0;32mwith\u001b[0m \u001b[0mlog_fixup\u001b[0m\u001b[0;34m(\u001b[0m\u001b[0mlog_cout\u001b[0m\u001b[0;34m,\u001b[0m \u001b[0mlog_cerr\u001b[0m\u001b[0;34m)\u001b[0m\u001b[0;34m:\u001b[0m\u001b[0;34m\u001b[0m\u001b[0;34m\u001b[0m\u001b[0m\n\u001b[1;32m   2389\u001b[0m             \u001b[0;32mif\u001b[0m \u001b[0mX\u001b[0m \u001b[0;32mis\u001b[0m \u001b[0;32mNone\u001b[0m\u001b[0;34m:\u001b[0m\u001b[0;34m\u001b[0m\u001b[0;34m\u001b[0m\u001b[0m\n\u001b[0;32m-> 2390\u001b[0;31m                 \u001b[0;32mraise\u001b[0m \u001b[0mCatBoostError\u001b[0m\u001b[0;34m(\u001b[0m\u001b[0;34m\"X must not be None\"\u001b[0m\u001b[0;34m)\u001b[0m\u001b[0;34m\u001b[0m\u001b[0;34m\u001b[0m\u001b[0m\n\u001b[0m\u001b[1;32m   2391\u001b[0m \u001b[0;34m\u001b[0m\u001b[0m\n\u001b[1;32m   2392\u001b[0m             \u001b[0;32mif\u001b[0m \u001b[0my\u001b[0m \u001b[0;32mis\u001b[0m \u001b[0;32mNone\u001b[0m \u001b[0;32mand\u001b[0m \u001b[0;32mnot\u001b[0m \u001b[0misinstance\u001b[0m\u001b[0;34m(\u001b[0m\u001b[0mX\u001b[0m\u001b[0;34m,\u001b[0m \u001b[0mPATH_TYPES\u001b[0m \u001b[0;34m+\u001b[0m \u001b[0;34m(\u001b[0m\u001b[0mPool\u001b[0m\u001b[0;34m,\u001b[0m\u001b[0;34m)\u001b[0m\u001b[0;34m)\u001b[0m\u001b[0;34m:\u001b[0m\u001b[0;34m\u001b[0m\u001b[0;34m\u001b[0m\u001b[0m\n",
            "\u001b[0;31mCatBoostError\u001b[0m: X must not be None"
          ]
        }
      ]
    }
  ]
}